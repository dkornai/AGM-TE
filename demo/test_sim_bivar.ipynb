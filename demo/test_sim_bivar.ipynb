{
 "cells": [
  {
   "cell_type": "code",
   "execution_count": 1,
   "metadata": {},
   "outputs": [],
   "source": [
    "from agm_te.dataset import DataSet\n",
    "from agm_te.model import train_agms, init_agms_from_loaders, _train_agm\n",
    "import numpy as np\n",
    "from te_datasim.lineargaussian import BVLinearGaussianSimulator"
   ]
  },
  {
   "cell_type": "code",
   "execution_count": 2,
   "metadata": {},
   "outputs": [
    {
     "name": "stdout",
     "output_type": "stream",
     "text": [
      "CUDA is available. Using GPU.\n"
     ]
    }
   ],
   "source": [
    "import torch; torch.set_printoptions(sci_mode=None)\n",
    "# Check if CUDA is available\n",
    "if torch.cuda.is_available():\n",
    "    compute_device = torch.device(\"cuda\")\n",
    "    print(\"CUDA is available. Using GPU.\")\n",
    "else:\n",
    "    compute_device = torch.device(\"cpu\")\n",
    "    print(\"CUDA is not available. Using CPU.\")"
   ]
  },
  {
   "cell_type": "markdown",
   "metadata": {},
   "source": [
    "### Initialize the Simulator"
   ]
  },
  {
   "cell_type": "code",
   "execution_count": 3,
   "metadata": {},
   "outputs": [
    {
     "name": "stdout",
     "output_type": "stream",
     "text": [
      "analytical TE X -> Y:  0.0\n",
      "analytical TE Y -> X:  0.1276\n"
     ]
    }
   ],
   "source": [
    "bivar = BVLinearGaussianSimulator()\n",
    "print(\"analytical TE X -> Y: \", bivar.analytic_transfer_entropy('X', 'Y'))\n",
    "print(\"analytical TE Y -> X: \", bivar.analytic_transfer_entropy('Y', 'X'))\n",
    "\n",
    "bivar_data_dict = {'X':[], 'Y':[]}\n",
    "for i in range(10):\n",
    "    X, Y = bivar.simulate(2000, seed=i)\n",
    "    bivar_data_dict['X'].append(X)\n",
    "    bivar_data_dict['Y'].append(Y)\n",
    "\n",
    "bivar_data = DataSet(bivar_data_dict)"
   ]
  },
  {
   "cell_type": "markdown",
   "metadata": {},
   "source": [
    "### Estimate $T_{X \\to Y}$"
   ]
  },
  {
   "cell_type": "code",
   "execution_count": 9,
   "metadata": {},
   "outputs": [
    {
     "name": "stdout",
     "output_type": "stream",
     "text": [
      "Loss 1: 0.604406, Loss 2: 0.604452, Est. TE: 0.0\n"
     ]
    }
   ],
   "source": [
    "dataloader_1, dataloader_2 = bivar_data.get_TE_dataloaders(var_from='X', var_to='Y')\n",
    "model_1, model_2 = init_agms_from_loaders(dataloader_1, dataloader_2, hidden_size=2, rnn_type='RNN')\n",
    "model_1.to(compute_device)\n",
    "model_2.to(compute_device)\n",
    "model_1, model_2, loss = train_agms(model_1, dataloader_1, model_2, dataloader_2, batch_size=1, epochs=1000, learning_rate=1e-2, optimize='sgd')"
   ]
  },
  {
   "cell_type": "markdown",
   "metadata": {},
   "source": [
    "### Estimate $T_{Y \\to X}$"
   ]
  },
  {
   "cell_type": "code",
   "execution_count": 10,
   "metadata": {},
   "outputs": [
    {
     "name": "stdout",
     "output_type": "stream",
     "text": [
      "Loss 1: 0.739814, Loss 2: 0.61351, Est. TE: 0.1263\n"
     ]
    }
   ],
   "source": [
    "dataloader_1, dataloader_2 = bivar_data.get_TE_dataloaders(var_from='Y', var_to='X')\n",
    "model_1, model_2 = init_agms_from_loaders(dataloader_1, dataloader_2, hidden_size=2, rnn_type='RNN')\n",
    "model_1.to(compute_device)\n",
    "model_2.to(compute_device)\n",
    "model_1, model_2, loss = train_agms(model_1, dataloader_1, model_2, dataloader_2, batch_size=1, epochs=1000, learning_rate=1e-2, optimize='sgd')"
   ]
  }
 ],
 "metadata": {
  "kernelspec": {
   "display_name": "base",
   "language": "python",
   "name": "python3"
  },
  "language_info": {
   "codemirror_mode": {
    "name": "ipython",
    "version": 3
   },
   "file_extension": ".py",
   "mimetype": "text/x-python",
   "name": "python",
   "nbconvert_exporter": "python",
   "pygments_lexer": "ipython3",
   "version": "3.11.5"
  }
 },
 "nbformat": 4,
 "nbformat_minor": 2
}
